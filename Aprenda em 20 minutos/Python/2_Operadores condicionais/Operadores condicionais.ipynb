{
 "cells": [
  {
   "cell_type": "code",
   "execution_count": 1,
   "metadata": {},
   "outputs": [],
   "source": [
    "# operador se\n",
    "\n",
    "num = 8\n",
    "if num==8:\n",
    "    print('legall')"
   ]
  },
  {
   "cell_type": "code",
   "execution_count": 3,
   "metadata": {},
   "outputs": [
    {
     "name": "stdout",
     "output_type": "stream",
     "text": [
      "legall\n"
     ]
    }
   ],
   "source": [
    "# operador então\n",
    "\n",
    "num = 9\n",
    "if num==9:\n",
    "    print('legall')\n",
    "else:\n",
    "    print('mais legal')"
   ]
  },
  {
   "cell_type": "code",
   "execution_count": 4,
   "metadata": {},
   "outputs": [
    {
     "name": "stdout",
     "output_type": "stream",
     "text": [
      "nota ruim\n"
     ]
    }
   ],
   "source": [
    "# encadeamento de If's\n",
    "\n",
    "notadoaluno = 4\n",
    "\n",
    "if notadoaluno > 9:\n",
    "    print('ele é um gênio!')\n",
    "elif notadoaluno < 9:\n",
    "    if notadoaluno > 5:\n",
    "        print ('nota regular')\n",
    "    else:\n",
    "        print('nota ruim')"
   ]
  },
  {
   "cell_type": "code",
   "execution_count": 1,
   "metadata": {},
   "outputs": [
    {
     "name": "stdout",
     "output_type": "stream",
     "text": [
      "verdade\n",
      "verdade\n",
      "é menor que 10\n"
     ]
    }
   ],
   "source": [
    "# igualdade, maior e menor, etc...\n",
    "# == Igual\n",
    "# != Diferente \n",
    "# > Maior que\n",
    "# < Menor que\n",
    "# >= Maior ou igual que\n",
    "# <= Menor ou igual que\n",
    "\n",
    "num = 5\n",
    "\n",
    "if(num == 5):\n",
    "    print('verdade')\n",
    "\n",
    "if num > 2:\n",
    "    print('verdade')\n",
    "    \n",
    "if num < 10:\n",
    "    print('é menor que 10')"
   ]
  },
  {
   "cell_type": "code",
   "execution_count": 10,
   "metadata": {},
   "outputs": [
    {
     "name": "stdout",
     "output_type": "stream",
     "text": [
      "os numeros são iguais a 2 e 4\n"
     ]
    }
   ],
   "source": [
    "# operador lógico E\n",
    "\n",
    "num1 = 2\n",
    "num2 = 4\n",
    "\n",
    "if num1 == 2 and num2 == 4:\n",
    "    print('os numeros são iguais a 2 e 4')\n",
    "else:\n",
    "    print('os numeros não são iguais a 2 e 4')\n",
    "    "
   ]
  },
  {
   "cell_type": "code",
   "execution_count": 14,
   "metadata": {},
   "outputs": [
    {
     "name": "stdout",
     "output_type": "stream",
     "text": [
      "ele joga bem\n"
     ]
    }
   ],
   "source": [
    "# operador lógico OR\n",
    "\n",
    "nome = \"cristiano\"\n",
    "time = \"juventus\"\n",
    "\n",
    "\n",
    "if nome == \"cristiano\" or time == 'juventus' :\n",
    "    print('ele joga bem')\n",
    "else:\n",
    "    print('não sei quem é')"
   ]
  },
  {
   "cell_type": "code",
   "execution_count": 6,
   "metadata": {},
   "outputs": [
    {
     "name": "stdout",
     "output_type": "stream",
     "text": [
      "é verdade\n",
      "não é verdade\n"
     ]
    }
   ],
   "source": [
    "# operador lógico NOT\n",
    "\n",
    "afirmacao = 'verdade'\n",
    "\n",
    "#proposicao sem o not\n",
    "\n",
    "if (afirmacao == 'verdade') :\n",
    "    print('é verdade')\n",
    "else:\n",
    "    print('não é verdade')\n",
    "\n",
    "#proposicao com o not\n",
    "    \n",
    "if not (afirmacao == 'verdade') :\n",
    "    print('é verdade')\n",
    "else:\n",
    "    print('não é verdade')\n",
    "\n"
   ]
  }
 ],
 "metadata": {
  "kernelspec": {
   "display_name": "Python 3",
   "language": "python",
   "name": "python3"
  },
  "language_info": {
   "codemirror_mode": {
    "name": "ipython",
    "version": 3
   },
   "file_extension": ".py",
   "mimetype": "text/x-python",
   "name": "python",
   "nbconvert_exporter": "python",
   "pygments_lexer": "ipython3",
   "version": "3.7.0"
  }
 },
 "nbformat": 4,
 "nbformat_minor": 2
}
