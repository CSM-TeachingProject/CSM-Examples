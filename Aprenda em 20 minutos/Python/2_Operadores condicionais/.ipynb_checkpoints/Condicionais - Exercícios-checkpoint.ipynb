{
 "cells": [
  {
   "cell_type": "code",
   "execution_count": 1,
   "metadata": {},
   "outputs": [
    {
     "name": "stdout",
     "output_type": "stream",
     "text": [
      "digite o primeiro numero4\n",
      "digite o segundo número5\n",
      "5\n"
     ]
    }
   ],
   "source": [
    "# 1- Faça um programa que peça dois números e imprima o maior deles\n",
    "# Dica: para realizar a inserção de dados pelo usuário utilize a função input(\"texto para o usuario\")\n",
    "\n",
    "a = input(\"digite o primeiro numero\")\n",
    "b = input(\"digite o segundo número\")\n",
    "\n",
    "if b > a:\n",
    "    print(b)\n",
    "else:\n",
    "   print(a)"
   ]
  },
  {
   "cell_type": "code",
   "execution_count": null,
   "metadata": {},
   "outputs": [],
   "source": [
    "# 2- Faça um programa que peça um valor e mostre na tela se o valor é positivo ou negativo"
   ]
  },
  {
   "cell_type": "code",
   "execution_count": null,
   "metadata": {},
   "outputs": [],
   "source": [
    "# 3- Faça um programa que verifique se uma letra digitada é “F” ou “M”. Conforme a letra escrever: F – Feminino, M- Masculino, \n",
    "# Sexo inválido."
   ]
  },
  {
   "cell_type": "code",
   "execution_count": null,
   "metadata": {},
   "outputs": [],
   "source": [
    "# 4- Faça um programa que verifique se uma letra digitada é vogal ou consoante."
   ]
  },
  {
   "cell_type": "code",
   "execution_count": null,
   "metadata": {},
   "outputs": [],
   "source": [
    "# 5- Faça um programa para a leitura de duas notas parciais de um aluno.\n",
    "# a. A mensagem “Aprovado”, se a média alcançada for maior ou igual a sete;\n",
    "# b. A mensagem “Aprovado com Distinção”, se a média for igual a dez;\n",
    "# c. A mensagem “Reprovado” se a média for menor de do que sete;"
   ]
  },
  {
   "cell_type": "code",
   "execution_count": null,
   "metadata": {},
   "outputs": [],
   "source": [
    "# 6- Faça um programa que leia três números e mostre o maior deles;"
   ]
  },
  {
   "cell_type": "code",
   "execution_count": null,
   "metadata": {},
   "outputs": [],
   "source": [
    "# 7- Faça um programa que leia três números e mostre o maior e o menor deles;"
   ]
  },
  {
   "cell_type": "code",
   "execution_count": null,
   "metadata": {},
   "outputs": [],
   "source": [
    "# 8- Faça um programa que pergunte o preço de três produtos e informe qual produto você deve comprar, \n",
    "# sabendo que a decisão é sempre o mais barato."
   ]
  },
  {
   "cell_type": "code",
   "execution_count": null,
   "metadata": {},
   "outputs": [],
   "source": [
    "# 9- Faça um programa que leia três números e mostre-os em ordem decrescente."
   ]
  },
  {
   "cell_type": "code",
   "execution_count": null,
   "metadata": {},
   "outputs": [],
   "source": [
    "# 10- Faça um programa que pergunte em que turno você estuda. Peça para digitar M-matutino ou V-vespertino ou N-noturno. \n",
    "# Imprima a mensagem “Bom dia!” ou  “Boa Noite” ou “Valor inválido”, conforme o caso."
   ]
  },
  {
   "cell_type": "code",
   "execution_count": null,
   "metadata": {},
   "outputs": [],
   "source": [
    "# 11- As organizações CSM resolveram dar um aumento de salário aos seus \n",
    "# colaboradores e lhe contrataram para desenvolver o programa que calculará os reajustes.\n",
    "# a. Faça um programa que recebe o salário de um colaborador e o reajuste segundo o seguinte critério, baseado no salário atual;\n",
    "# b. Salários até R$ 280,00 (incluindo): aumento de 20%;\n",
    "#c. Salários entre R$ 280,00 e R$700,00: aumento de 15%;\n",
    "# d. Salários entre R$ 700,00 e R$ 1500,00: aumento de 10%;\n",
    "# e. Salários de R$ 1500,00 em diante: aumento de 5% Após o aumento ser realizado; informe na tela;\n",
    "# f. O salário antes do reajuste;\n",
    "# g. O percentual de aumento aplicado;\n",
    "# h. O valor do aumento;\n",
    "# i. O novo salário, após o aumento."
   ]
  },
  {
   "cell_type": "code",
   "execution_count": null,
   "metadata": {},
   "outputs": [],
   "source": [
    "# 12- Faça um programa para o cálculo de uma folha de pagamento, sabendo que os descontos são do imposto de Renda, que depende do salário bruto (conforme tabela abaixo) e 3% para o Sindicato e que o FGTS corresponde a 11% do salário bruto, mas não é descontado (é a empresa que deposita.) O salário líquido corresponde ao salário bruto menos os descontos O programa deverá pedir ao usuário o valor da sua hora e a quantidade de horas trabalhadas no mês.\n",
    "# a. Desconto do IR;\n",
    "# b. Salário Bruto ate R$900,00 (inclusive) – Isento;\n",
    "# c. Salário Bruto de R$ 1500, 00 (inclusive) – desconto de 5%;\n",
    "# d. Salario bruto até R$ 2500,00 (Inclusive) – desconto de 10%;\n",
    "# e. Salário bruto acima de 2500 – Desconto de 20%. \n",
    "#Imprima na tela as informações, dispostas conforme o exemplo abaixo, no exemplo valor da hora é 5 e a quantidade de horas é 220.\n",
    "\n",
    "#Salário bruto (5 * 220)            : R$   1100,00\n",
    "# ( - ) IR (5%)                     : R$     55,00\n",
    "# ( - ) INSS ( 10% )                : R$    110,00\n",
    "# FGTS ( 11%)                       : R$    121,00\n",
    "# Total de descontos                : R$    165,00\n",
    "#Salário Líquido                    : R$    935,00"
   ]
  },
  {
   "cell_type": "code",
   "execution_count": null,
   "metadata": {},
   "outputs": [],
   "source": [
    "# 13 – Faça um Programa que leia um número e exiba o dia correspondente da semana. \n",
    "# (1- Domingo , 2- Segunda, etc.) se digitar outro valor deve aparecer “valor inválido)"
   ]
  },
  {
   "cell_type": "code",
   "execution_count": null,
   "metadata": {},
   "outputs": [],
   "source": [
    "# 14 – Faça um programa que lê as duas notas parciais obtidas por um aluno numa disciplina ao longo de um semestre, \n",
    "# e calcule a sua média. A atribuição de conceitos obedece à tabela abaixo:\n",
    "\n",
    "# Média de aproveitamento                  Conceito \n",
    "# Entre 9.0 e 10.0                            A\n",
    "# Entre 7.5 e 9.0                             B\n",
    "# Entre 6.0 e 7.5                             C\n",
    "# Entre 4.0 e 6.0                             D\n",
    "# Entre 4.0 e zero                            E\n",
    "\n",
    "# O algoritmo deve mostrar na tela as notas, a média, o conceito correspondente e a mensagem “APROVADO” se o \n",
    "# conceito for A, B ou C “REPROVADO” se o conceito for D ou E."
   ]
  },
  {
   "cell_type": "code",
   "execution_count": null,
   "metadata": {},
   "outputs": [],
   "source": [
    "# 16. Faça um programa que calcule as raízes de uma equação do segundo grau, na forma ax2 + bx + c.\n",
    "# O programa deverá pedir os valores de a, b e c e fazer as consistências, informando ao usuário nas seguintes situações:\n",
    "\n",
    "# a. Se o usuário informar o valor de A igual a zero. a equação não e do segundo grau e o programa não deve fazer \n",
    "# pedir os demais valores, sendo encerrado;\n",
    "# b. Se o delta calculado for negativo, a equação não possui raízes reais. Informe ao usuário e encerre o programa;\n",
    "# c. Se o delta calculado for igual a zero a equação possui apenas uma raiz real; informe ao usuário;\n",
    "# d. Se o delta for positivo, a equação possui duas raízes reais; informe-as ao usuário;"
   ]
  },
  {
   "cell_type": "code",
   "execution_count": null,
   "metadata": {},
   "outputs": [],
   "source": [
    "# 17. Faça um Programa que peça um número correspondente a um determinado ano e em seguida informe se este ano e ou não bissexto."
   ]
  },
  {
   "cell_type": "code",
   "execution_count": null,
   "metadata": {},
   "outputs": [],
   "source": [
    "# 18. Faça um Programa que peça um número inteiro e determine se ele e par ou ímpar. \n",
    "# Dica: utilize o operador módulo (resto da divisão)."
   ]
  },
  {
   "cell_type": "code",
   "execution_count": null,
   "metadata": {},
   "outputs": [],
   "source": [
    "# 19. Faça um Programa que leia 2 números e em seguida pergunte ao usuário qual operação ele deseja realizar. O resultado da operação deve ser acompanhado de uma \n",
    "# frase que diga se o número e: Par ou ímpar; Positivo ou negativo;"
   ]
  },
  {
   "cell_type": "code",
   "execution_count": null,
   "metadata": {},
   "outputs": [],
   "source": [
    "# 20. Faça um programa que faça 5 perguntas para uma pessoa sobre um crime. As perguntas são:\n",
    "# \"Telefonou para a vítima? “\n",
    "# \"Esteve no local do crime?\"\n",
    "# \"Mora perto da vítima? “\n",
    "# \"Devia para a vítima? “\n",
    "# \"Já trabalhou com a vítima? “\n",
    "\n",
    "# O programa deve no final emitir uma classificação sobre a participação da pessoa no crime. \n",
    "# Se a pessoa responder positivamente a 2 questões ela deve ser classificada como \"Suspeita\", \n",
    "# entre 3 e 4 como \"Cúmplice\" e 5 como “Assassino“. Caso contrário, ele será classificado como \"Inocente“."
   ]
  }
 ],
 "metadata": {
  "kernelspec": {
   "display_name": "Python 3",
   "language": "python",
   "name": "python3"
  },
  "language_info": {
   "codemirror_mode": {
    "name": "ipython",
    "version": 3
   },
   "file_extension": ".py",
   "mimetype": "text/x-python",
   "name": "python",
   "nbconvert_exporter": "python",
   "pygments_lexer": "ipython3",
   "version": "3.7.3"
  }
 },
 "nbformat": 4,
 "nbformat_minor": 2
}
