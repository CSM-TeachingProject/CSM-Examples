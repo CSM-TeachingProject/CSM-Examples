{
 "cells": [
  {
   "cell_type": "code",
   "execution_count": 2,
   "metadata": {},
   "outputs": [
    {
     "name": "stdout",
     "output_type": "stream",
     "text": [
      "Digite um numero:1\n",
      "Digite um numero:2\n",
      "O resultado é: 3\n"
     ]
    }
   ],
   "source": [
    "# Entrada e saida são as operações mais básicas da programação\n",
    "# A saída é feita com o comando print()\n",
    "# agora veremos a entrada\n",
    "\n",
    "entrada1 = input('Digite um numero:')\n",
    "numero1 = int(entrada1)\n",
    "\n",
    "entrada2 = input('Digite um numero:')\n",
    "numero2 = int(entrada2)\n",
    "\n",
    "print('O resultado é:', numero1+numero2)\n"
   ]
  },
  {
   "cell_type": "code",
   "execution_count": 2,
   "metadata": {},
   "outputs": [
    {
     "name": "stdout",
     "output_type": "stream",
     "text": [
      "Alterando o valor de sep\n",
      "1980--->1990--->2000--->2010\n"
     ]
    }
   ],
   "source": [
    "ano1 = '1980'\n",
    "ano2 = '1990'\n",
    "ano3 = '2000'\n",
    "ano4 = '2010'\n",
    "\n",
    "texto = \"Alterando o valor de sep\"\n",
    "print(texto)\n",
    "print(ano1, ano2, ano3, ano4, sep='--->')"
   ]
  },
  {
   "cell_type": "code",
   "execution_count": 3,
   "metadata": {},
   "outputs": [
    {
     "name": "stdout",
     "output_type": "stream",
     "text": [
      "\n",
      "Alterando o valor de sep e end\n",
      "1980--->1990--->2000--->2010...\n"
     ]
    }
   ],
   "source": [
    "# pula uma linha\n",
    "print()\n",
    "\n",
    "texto = \"Alterando o valor de sep e end\"\n",
    "print(texto)\n",
    "print(ano1, ano2, ano3, ano4, sep='--->', end='...\\n')"
   ]
  },
  {
   "cell_type": "code",
   "execution_count": 5,
   "metadata": {},
   "outputs": [
    {
     "name": "stdout",
     "output_type": "stream",
     "text": [
      "Digite algo para colocar no arquivofaefaf\n",
      "faefaf\n"
     ]
    }
   ],
   "source": [
    "# é possível ainda escrever um texto em um arquivo\n",
    "\n",
    "entrada3 = input('Digite algo para colocar no arquivo')\n",
    "\n",
    "with open('arquivo.txt', 'w') as f:\n",
    "    f.write(entrada3)\n",
    "    \n",
    "with open('arquivo.txt', 'r') as f:\n",
    "    print(f.read())\n",
    "    \n",
    "    "
   ]
  }
 ],
 "metadata": {
  "kernelspec": {
   "display_name": "Python 3",
   "language": "python",
   "name": "python3"
  },
  "language_info": {
   "codemirror_mode": {
    "name": "ipython",
    "version": 3
   },
   "file_extension": ".py",
   "mimetype": "text/x-python",
   "name": "python",
   "nbconvert_exporter": "python",
   "pygments_lexer": "ipython3",
   "version": "3.6.5"
  }
 },
 "nbformat": 4,
 "nbformat_minor": 2
}
