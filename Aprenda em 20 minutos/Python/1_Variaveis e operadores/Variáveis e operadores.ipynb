{
 "cells": [
  {
   "cell_type": "code",
   "execution_count": 1,
   "metadata": {},
   "outputs": [
    {
     "name": "stdout",
     "output_type": "stream",
     "text": [
      "hello world\n"
     ]
    }
   ],
   "source": [
    "# exemplo simples de saída\n",
    "print ('hello world')"
   ]
  },
  {
   "cell_type": "code",
   "execution_count": 8,
   "metadata": {},
   "outputs": [
    {
     "name": "stdout",
     "output_type": "stream",
     "text": [
      "eu estou escrevendo essa string\n"
     ]
    }
   ],
   "source": [
    "# variaveis\n",
    "\n",
    "a = 12\n",
    "b = 'isso é uma frase'\n",
    "c = 12.5\n",
    "\n",
    "print(a,b,c)"
   ]
  },
  {
   "cell_type": "code",
   "execution_count": 16,
   "metadata": {},
   "outputs": [
    {
     "name": "stdout",
     "output_type": "stream",
     "text": [
      "23\n",
      "5\n",
      "126\n",
      "1.5555555555555556\n",
      "5\n"
     ]
    }
   ],
   "source": [
    "# operações matemáticas\n",
    "\n",
    "num1 = 14\n",
    "num2 = 9\n",
    "\n",
    "print(num1 + num2)\n",
    "print(num1 - num2)\n",
    "print(num1 * num2)\n",
    "print(num1 / num2)\n",
    "print(num1 % num2)"
   ]
  },
  {
   "cell_type": "code",
   "execution_count": 19,
   "metadata": {},
   "outputs": [
    {
     "name": "stdout",
     "output_type": "stream",
     "text": [
      "eu amo bacon\n",
      "\n",
      "eu amo bacon\n",
      "\n",
      "eu amo bacon\n",
      "\n",
      "eu amo bacon\n",
      "\n",
      "eu amo bacon\n",
      "\n",
      "\n"
     ]
    }
   ],
   "source": [
    "# Imprimindo várias vezes\n",
    "\n",
    "frase = 'eu amo bacon\\n'\n",
    "\n",
    "print(frase*5)"
   ]
  },
  {
   "cell_type": "code",
   "execution_count": 12,
   "metadata": {},
   "outputs": [
    {
     "name": "stdout",
     "output_type": "stream",
     "text": [
      "eu sou lindo\n"
     ]
    }
   ],
   "source": [
    "# concatenando frases\n",
    "\n",
    "frase1 = 'eu sou '\n",
    "frase2 = 'lindo'\n",
    "frase3 = frase1 + frase2\n",
    "\n",
    "print(frase3)"
   ]
  }
 ],
 "metadata": {
  "kernelspec": {
   "display_name": "Python 3",
   "language": "python",
   "name": "python3"
  },
  "language_info": {
   "codemirror_mode": {
    "name": "ipython",
    "version": 3
   },
   "file_extension": ".py",
   "mimetype": "text/x-python",
   "name": "python",
   "nbconvert_exporter": "python",
   "pygments_lexer": "ipython3",
   "version": "3.7.3"
  }
 },
 "nbformat": 4,
 "nbformat_minor": 2
}
