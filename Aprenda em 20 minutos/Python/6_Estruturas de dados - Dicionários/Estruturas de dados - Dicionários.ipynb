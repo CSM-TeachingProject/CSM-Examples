{
 "cells": [
  {
   "cell_type": "code",
   "execution_count": 5,
   "metadata": {},
   "outputs": [
    {
     "name": "stdout",
     "output_type": "stream",
     "text": [
      "{'maca': 'é uma fruta', 'carro': 'é um veículo', 'ovo': 'veio da galinha'}\n"
     ]
    }
   ],
   "source": [
    "# dicionários são estruturas de \"chave - elemento\"\n",
    "\n",
    "dicionario1 = {}\n",
    "\n",
    "dicionario1['maca'] = 'é uma fruta'\n",
    "dicionario1['carro'] = 'é um veículo'\n",
    "dicionario1['ovo'] = 'veio da galinha'\n",
    "print (dicionario1)"
   ]
  },
  {
   "cell_type": "code",
   "execution_count": 7,
   "metadata": {},
   "outputs": [
    {
     "name": "stdout",
     "output_type": "stream",
     "text": [
      "é uma fruta\n"
     ]
    }
   ],
   "source": [
    "# você pode imprimir apenas 1 elemento chamando pela chave\n",
    "\n",
    "print (dicionario1['maca'])"
   ]
  },
  {
   "cell_type": "code",
   "execution_count": 8,
   "metadata": {},
   "outputs": [
    {
     "name": "stdout",
     "output_type": "stream",
     "text": [
      "{'maca': 'é uma fruta', 'carro': 'é um veículo'}\n"
     ]
    }
   ],
   "source": [
    "# você pode deletar um elemento usando a chave\n",
    "\n",
    "del dicionario1['ovo']\n",
    "\n",
    "print (dicionario1)"
   ]
  },
  {
   "cell_type": "code",
   "execution_count": 9,
   "metadata": {},
   "outputs": [
    {
     "name": "stdout",
     "output_type": "stream",
     "text": [
      "é uma fruta gostosa\n"
     ]
    }
   ],
   "source": [
    "# você pode alterar um valor usando a chave\n",
    "\n",
    "dicionario1['maca'] = 'é uma fruta gostosa'\n",
    "print (dicionario1['maca'])"
   ]
  }
 ],
 "metadata": {
  "kernelspec": {
   "display_name": "Python 3",
   "language": "python",
   "name": "python3"
  },
  "language_info": {
   "codemirror_mode": {
    "name": "ipython",
    "version": 3
   },
   "file_extension": ".py",
   "mimetype": "text/x-python",
   "name": "python",
   "nbconvert_exporter": "python",
   "pygments_lexer": "ipython3",
   "version": "3.7.0"
  }
 },
 "nbformat": 4,
 "nbformat_minor": 2
}
