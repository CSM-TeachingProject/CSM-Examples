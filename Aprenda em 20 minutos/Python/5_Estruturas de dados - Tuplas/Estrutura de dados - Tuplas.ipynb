{
 "cells": [
  {
   "cell_type": "code",
   "execution_count": 4,
   "metadata": {},
   "outputs": [
    {
     "name": "stdout",
     "output_type": "stream",
     "text": [
      "(12, 'string', 13.7, 'outra string')\n",
      "elemento 2:  13.7\n"
     ]
    }
   ],
   "source": [
    "# tuplas são listas, porém são imutáveis\n",
    "\n",
    "tupla = (12, 'string', 13.7, 'outra string')\n",
    "print(tupla)\n",
    "\n",
    "#posso imprimir um elemento só da tupla \n",
    "print ('elemento 2: ', tupla[2])"
   ]
  },
  {
   "cell_type": "code",
   "execution_count": 5,
   "metadata": {},
   "outputs": [
    {
     "name": "stdout",
     "output_type": "stream",
     "text": [
      "(10, 'string', 20, 'mais uma')\n"
     ]
    }
   ],
   "source": [
    "# posso juntar duas tuplas\n",
    "\n",
    "tupla1 = (10, 'string')\n",
    "tupla2 = (20, 'mais uma')\n",
    "\n",
    "tupla3 = tupla1 + tupla2\n",
    "\n",
    "print(tupla3)"
   ]
  },
  {
   "cell_type": "code",
   "execution_count": 6,
   "metadata": {},
   "outputs": [
    {
     "ename": "TypeError",
     "evalue": "'tuple' object does not support item assignment",
     "output_type": "error",
     "traceback": [
      "\u001b[1;31m---------------------------------------------------------------------------\u001b[0m",
      "\u001b[1;31mTypeError\u001b[0m                                 Traceback (most recent call last)",
      "\u001b[1;32m<ipython-input-6-bd95eb531188>\u001b[0m in \u001b[0;36m<module>\u001b[1;34m()\u001b[0m\n\u001b[0;32m      1\u001b[0m \u001b[0mtupla4\u001b[0m \u001b[1;33m=\u001b[0m \u001b[1;33m(\u001b[0m\u001b[1;36m10\u001b[0m\u001b[1;33m,\u001b[0m \u001b[1;36m20\u001b[0m\u001b[1;33m,\u001b[0m \u001b[1;36m30\u001b[0m\u001b[1;33m)\u001b[0m\u001b[1;33m\u001b[0m\u001b[0m\n\u001b[1;32m----> 2\u001b[1;33m \u001b[0mtupla4\u001b[0m\u001b[1;33m[\u001b[0m\u001b[1;36m2\u001b[0m\u001b[1;33m]\u001b[0m \u001b[1;33m=\u001b[0m \u001b[1;36m0\u001b[0m\u001b[1;33m\u001b[0m\u001b[0m\n\u001b[0m",
      "\u001b[1;31mTypeError\u001b[0m: 'tuple' object does not support item assignment"
     ]
    }
   ],
   "source": [
    "# Se tentarmos mudar uma tupla ocorrerá um erro\n",
    "tupla4 = (10, 20, 30)\n",
    "tupla4[2] = 0\n"
   ]
  },
  {
   "cell_type": "code",
   "execution_count": 10,
   "metadata": {},
   "outputs": [
    {
     "name": "stdout",
     "output_type": "stream",
     "text": [
      "primeiro\n",
      "segundo\n",
      "terceiro\n"
     ]
    }
   ],
   "source": [
    "# posso usar um laço de repetição para percorrer uma tupla\n",
    "\n",
    "tupla5 = ('primeiro', 'segundo', 'terceiro')\n",
    "\n",
    "for i in range(0,3):\n",
    "    print(tupla5[i])"
   ]
  }
 ],
 "metadata": {
  "kernelspec": {
   "display_name": "Python 3",
   "language": "python",
   "name": "python3"
  },
  "language_info": {
   "codemirror_mode": {
    "name": "ipython",
    "version": 3
   },
   "file_extension": ".py",
   "mimetype": "text/x-python",
   "name": "python",
   "nbconvert_exporter": "python",
   "pygments_lexer": "ipython3",
   "version": "3.7.0"
  }
 },
 "nbformat": 4,
 "nbformat_minor": 2
}
