{
 "cells": [
  {
   "cell_type": "code",
   "execution_count": 2,
   "metadata": {},
   "outputs": [
    {
     "name": "stdout",
     "output_type": "stream",
     "text": [
      "4\n"
     ]
    }
   ],
   "source": [
    "# uma função é uma rotina que você deseja utilizar varias vezes\n",
    "\n",
    "# somando dois numeros\n",
    "\n",
    "def soma(num1, num2):\n",
    "    #aqui você pode fazer qualquer coisa\n",
    "    return (num1 + num2)\n",
    "\n",
    "print (soma(2,2))"
   ]
  },
  {
   "cell_type": "code",
   "execution_count": 3,
   "metadata": {},
   "outputs": [
    {
     "name": "stdout",
     "output_type": "stream",
     "text": [
      "10\n"
     ]
    }
   ],
   "source": [
    "#dentro de uma função você pode usar laços de repetição, condicionais, etc...\n",
    "\n",
    "def multiplica(num1,num2):\n",
    "    return(num1*num2)\n",
    "\n",
    "print (multiplica(2,5))"
   ]
  }
 ],
 "metadata": {
  "kernelspec": {
   "display_name": "Python 3",
   "language": "python",
   "name": "python3"
  },
  "language_info": {
   "codemirror_mode": {
    "name": "ipython",
    "version": 3
   },
   "file_extension": ".py",
   "mimetype": "text/x-python",
   "name": "python",
   "nbconvert_exporter": "python",
   "pygments_lexer": "ipython3",
   "version": "3.7.0"
  }
 },
 "nbformat": 4,
 "nbformat_minor": 2
}
