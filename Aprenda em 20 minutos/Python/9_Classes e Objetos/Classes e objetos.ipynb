{
 "cells": [
  {
   "cell_type": "code",
   "execution_count": 35,
   "metadata": {},
   "outputs": [
    {
     "name": "stdout",
     "output_type": "stream",
     "text": [
      "astolfo: estou andando\n",
      "astolfo: estou falando\n"
     ]
    }
   ],
   "source": [
    "## Definindo uma classe\n",
    "\n",
    "class Pessoa:\n",
    "\n",
    "    def __init__(self,nome):\n",
    "        self.nome = nome\n",
    "\n",
    "    def anda(self):\n",
    "        print(self.nome + ': estou andando')\n",
    "\n",
    "    def fala(self):\n",
    "        print(self.nome + ': estou falando')\n",
    "    \n",
    "    def marcarUmaReuniao(self):\n",
    "        print(\"eu sou uma pessoa comum, vamos conversar?\")\n",
    "        \n",
    "pessoa = Pessoa('astolfo'); \n",
    "pessoa.anda(); \n",
    "pessoa.fala();"
   ]
  },
  {
   "cell_type": "code",
   "execution_count": 133,
   "metadata": {},
   "outputs": [],
   "source": [
    "## Definindo uma classe filha\n",
    "\n",
    "class Gerente(Pessoa):\n",
    "    def __init__(self,nome, salario):\n",
    "        super().__init__(nome)\n",
    "        self.salario = salario\n",
    "        self.dataDeNascimento = \"dd/mm/yy\"\n",
    "        self.corDosOlhos = \"castanhos\" #definindo atributos sem inicializando-os porém não colocando no construtor\n",
    "        self.__sexo = \"masculino\"\n",
    "        \n",
    "    def darUmaOrdem(self):\n",
    "        print(\"eu sou o gerente, estou dando uma ordem\")\n",
    "        \n",
    "    def marcarUmaReuniao(self):\n",
    "        print(\"Eu sou o seu gerente, vamos conversar na minha sala em 10 minutos\")\n",
    "        \n",
    "    "
   ]
  },
  {
   "cell_type": "code",
   "execution_count": 134,
   "metadata": {},
   "outputs": [
    {
     "name": "stdout",
     "output_type": "stream",
     "text": [
      "mario da silva\n",
      "castanhos\n"
     ]
    }
   ],
   "source": [
    "g1 = Gerente(\"mario da silva\",1000)\n",
    "print(g1.nome)\n",
    "print(g1.corDosOlhos)\n"
   ]
  },
  {
   "cell_type": "code",
   "execution_count": 135,
   "metadata": {},
   "outputs": [
    {
     "name": "stdout",
     "output_type": "stream",
     "text": [
      "azuis\n"
     ]
    }
   ],
   "source": [
    "# alterando o valor de um atributo\n",
    "\n",
    "g1.corDosOlhos = \"azuis\"\n",
    "print(g1.corDosOlhos)"
   ]
  },
  {
   "cell_type": "code",
   "execution_count": 136,
   "metadata": {},
   "outputs": [
    {
     "name": "stdout",
     "output_type": "stream",
     "text": [
      "feminino\n"
     ]
    }
   ],
   "source": [
    "#alterando um atributo \"privado\"\n",
    "\n",
    "g1.__sexo = \"feminino\"\n",
    "print (g1.__sexo)\n",
    "\n",
    "# Encapsulamento dentro do python é apenas uma convenção... os atributos são privados quando possuem o __, \n",
    "# porém eles podem ser acessados."
   ]
  },
  {
   "cell_type": "code",
   "execution_count": 137,
   "metadata": {},
   "outputs": [
    {
     "name": "stdout",
     "output_type": "stream",
     "text": [
      "mario da silva: estou falando\n"
     ]
    }
   ],
   "source": [
    "#chamando um método da classe pai na classe filha\n",
    "\n",
    "g1.fala()"
   ]
  },
  {
   "cell_type": "code",
   "execution_count": 138,
   "metadata": {},
   "outputs": [
    {
     "name": "stdout",
     "output_type": "stream",
     "text": [
      "eu sou o gerente, estou dando uma ordem\n"
     ]
    }
   ],
   "source": [
    "# chamando um método filho apenas\n",
    "\n",
    "g1.darUmaOrdem()"
   ]
  },
  {
   "cell_type": "code",
   "execution_count": 139,
   "metadata": {},
   "outputs": [
    {
     "name": "stdout",
     "output_type": "stream",
     "text": [
      "Eu sou o seu gerente, vamos conversar na minha sala em 10 minutos\n"
     ]
    }
   ],
   "source": [
    "# chamando um método sobrecarregado\n",
    "\n",
    "g1.marcarUmaReuniao()"
   ]
  }
 ],
 "metadata": {
  "kernelspec": {
   "display_name": "Python 3",
   "language": "python",
   "name": "python3"
  },
  "language_info": {
   "codemirror_mode": {
    "name": "ipython",
    "version": 3
   },
   "file_extension": ".py",
   "mimetype": "text/x-python",
   "name": "python",
   "nbconvert_exporter": "python",
   "pygments_lexer": "ipython3",
   "version": "3.6.5"
  }
 },
 "nbformat": 4,
 "nbformat_minor": 2
}
