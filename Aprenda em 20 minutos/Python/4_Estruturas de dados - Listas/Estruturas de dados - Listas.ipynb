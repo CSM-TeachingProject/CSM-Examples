{
 "cells": [
  {
   "cell_type": "code",
   "execution_count": 5,
   "metadata": {},
   "outputs": [
    {
     "name": "stdout",
     "output_type": "stream",
     "text": [
      "[10, 'eu sou legal', 13.5]\n"
     ]
    }
   ],
   "source": [
    "# listas são coleções não homogeneas de dados (os dados não são do mesmo tipo)\n",
    "\n",
    "lista1 = [10, 'eu sou legal', 13.5]\n",
    "\n",
    "print(lista1)"
   ]
  },
  {
   "cell_type": "code",
   "execution_count": 6,
   "metadata": {},
   "outputs": [
    {
     "name": "stdout",
     "output_type": "stream",
     "text": [
      "eu sou legal\n"
     ]
    }
   ],
   "source": [
    "# posso imprimir um elemento por vez\n",
    "\n",
    "print(lista1[1])"
   ]
  },
  {
   "cell_type": "code",
   "execution_count": 7,
   "metadata": {},
   "outputs": [
    {
     "name": "stdout",
     "output_type": "stream",
     "text": [
      "eu sou legal\n",
      "eu sou muito legal demais\n"
     ]
    }
   ],
   "source": [
    "# posso ainda atualizar um valor na lista\n",
    "\n",
    "print(lista1[1])\n",
    "lista1[1] = 'eu sou muito legal demais'\n",
    "print(lista1[1])"
   ]
  },
  {
   "cell_type": "code",
   "execution_count": 10,
   "metadata": {},
   "outputs": [
    {
     "name": "stdout",
     "output_type": "stream",
     "text": [
      "[10, 20, 30]\n"
     ]
    }
   ],
   "source": [
    "# posso eliminar o ultimo elemento da lista com a função pop()\n",
    "lista2 = [10,20,30,40]\n",
    "lista2.pop()\n",
    "print (lista2)"
   ]
  },
  {
   "cell_type": "code",
   "execution_count": 11,
   "metadata": {},
   "outputs": [
    {
     "name": "stdout",
     "output_type": "stream",
     "text": [
      "[10, 20, 40, 50, 60]\n"
     ]
    }
   ],
   "source": [
    "# ou também posso eliminar um elemento especifico da lista com o operador del\n",
    "\n",
    "lista3 = [10,20,30,40,50,60]\n",
    "\n",
    "del lista3[2]\n",
    "print(lista3)"
   ]
  },
  {
   "cell_type": "code",
   "execution_count": 12,
   "metadata": {},
   "outputs": [
    {
     "name": "stdout",
     "output_type": "stream",
     "text": [
      "10\n",
      "20\n",
      "40\n",
      "50\n",
      "60\n"
     ]
    }
   ],
   "source": [
    "# posso percorrer a lista com um for\n",
    "\n",
    "for index in range (0,len(lista3)):\n",
    "    print(lista3[index])"
   ]
  },
  {
   "cell_type": "code",
   "execution_count": 25,
   "metadata": {},
   "outputs": [
    {
     "name": "stdout",
     "output_type": "stream",
     "text": [
      "[[10, 20, 30], [40, 50, 60], [70, 80, 90]]\n",
      "\n",
      "\n",
      "10 -20 -30 -\n",
      "\n",
      "40 -50 -60 -\n",
      "\n",
      "70 -80 -90 -"
     ]
    }
   ],
   "source": [
    "# posso definir uma lista de listas\n",
    "\n",
    "matriz = [[10,20,30],[40,50,60],[70,80,90]]\n",
    "\n",
    "print (matriz)\n",
    "\n",
    "for i in range(0,3):\n",
    "    print('\\n')\n",
    "    for j in range(0,3):\n",
    "        print(matriz[i][j], '-' ,end=\"\")"
   ]
  }
 ],
 "metadata": {
  "kernelspec": {
   "display_name": "Python 3",
   "language": "python",
   "name": "python3"
  },
  "language_info": {
   "codemirror_mode": {
    "name": "ipython",
    "version": 3
   },
   "file_extension": ".py",
   "mimetype": "text/x-python",
   "name": "python",
   "nbconvert_exporter": "python",
   "pygments_lexer": "ipython3",
   "version": "3.7.0"
  }
 },
 "nbformat": 4,
 "nbformat_minor": 2
}
