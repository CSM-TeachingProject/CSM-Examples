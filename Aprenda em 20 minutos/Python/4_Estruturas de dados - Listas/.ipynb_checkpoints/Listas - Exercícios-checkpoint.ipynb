{
 "cells": [
  {
   "cell_type": "code",
   "execution_count": null,
   "metadata": {},
   "outputs": [],
   "source": [
    "# 1. Declare uma lista com 12 posições e em seguida declare também dois valores X e Y quaisquer correspondentes a \n",
    "# duas posições na lista. Ao final seu programa deverá escrever a soma dos valores encontrados nas respectivas posições X e Y.\n"
   ]
  },
  {
   "cell_type": "code",
   "execution_count": null,
   "metadata": {},
   "outputs": [],
   "source": [
    "# 2. Declare uma lista de 10 posições e o preencha com os 10 primeiros números impares e o escreva.\n",
    "\n"
   ]
  },
  {
   "cell_type": "code",
   "execution_count": null,
   "metadata": {},
   "outputs": [],
   "source": [
    "# 3. Declare uma lista de 16 posições e troque os 8 primeiros valores pelos 8 últimos e vice-e-versa. \n",
    "# Escreva ao final o vetor obtido.\n",
    "\n"
   ]
  },
  {
   "cell_type": "code",
   "execution_count": null,
   "metadata": {},
   "outputs": [],
   "source": [
    "# 4. Declare uma lista de 20 posições e em seguida um valor X qualquer. Seu programa devera fazer uma busca do valor de X no \n",
    "# vetor lido e informar a posição em que foi encontrado ou se não foi encontrado.\n"
   ]
  },
  {
   "cell_type": "code",
   "execution_count": null,
   "metadata": {},
   "outputs": [],
   "source": [
    "# 5. Declare uma lista de 40 posições. Contar e escrever quantos valores pares ele possui.\n",
    "\n"
   ]
  },
  {
   "cell_type": "code",
   "execution_count": null,
   "metadata": {},
   "outputs": [],
   "source": [
    "# 6. Declare uma lista de 40 posições e atribua valor 0 para todos os elementos que possuírem valores negativos.\n"
   ]
  },
  {
   "cell_type": "code",
   "execution_count": null,
   "metadata": {},
   "outputs": [],
   "source": [
    "# 7. Declare dois vetores de 10 posições e crie uma outra lista contendo nas posições pares os valores do primeiro \n",
    "# e nas posições impares os valores do segundo.\n"
   ]
  },
  {
   "cell_type": "code",
   "execution_count": null,
   "metadata": {},
   "outputs": [],
   "source": [
    "# 8. Declare uma lista de 10 posições e acumule os valores do primeiro elemento no segundo, \n",
    "# deste no terceiro e assim por diante. Ao final, escreva o vetor obtido.\n",
    "\n"
   ]
  },
  {
   "cell_type": "code",
   "execution_count": null,
   "metadata": {},
   "outputs": [],
   "source": [
    "# 9. Declare uma lista contendo letras de uma frase inclusive os espaços em branco. \n",
    "# Retirar os espaços em branco da lista e depois escreve-los.\n"
   ]
  },
  {
   "cell_type": "code",
   "execution_count": null,
   "metadata": {},
   "outputs": [],
   "source": [
    "# 10. Declare duas listas de 4 posições. Verifique e escreva se um é anagrama de outro.\n",
    "#  Ex: ARARA - ARARA - são anagramas\n",
    "\n"
   ]
  },
  {
   "cell_type": "code",
   "execution_count": null,
   "metadata": {},
   "outputs": [],
   "source": [
    "# 11. Declare 3 listas de 9 posições e crie outro com o 1º terço do primeiro, o segundo 3º \n",
    "# do segundo e o ultimo terço do 3º. Escrever o vetor resultante ao final."
   ]
  },
  {
   "cell_type": "code",
   "execution_count": null,
   "metadata": {},
   "outputs": [],
   "source": [
    "# 12. Declare uma lista de 10 posições e verifique se existem valores iguais e os escreva."
   ]
  },
  {
   "cell_type": "code",
   "execution_count": null,
   "metadata": {},
   "outputs": [],
   "source": [
    "# 13. Declare uma lista de 50 posições e o compacte, ou seja, mova os valores zero para o final do lista. \n",
    "# Dessa forma todos “zeros” devem ficar para as posições finais do lista."
   ]
  }
 ],
 "metadata": {
  "kernelspec": {
   "display_name": "Python 3",
   "language": "python",
   "name": "python3"
  },
  "language_info": {
   "codemirror_mode": {
    "name": "ipython",
    "version": 3
   },
   "file_extension": ".py",
   "mimetype": "text/x-python",
   "name": "python",
   "nbconvert_exporter": "python",
   "pygments_lexer": "ipython3",
   "version": "3.7.3"
  }
 },
 "nbformat": 4,
 "nbformat_minor": 2
}
