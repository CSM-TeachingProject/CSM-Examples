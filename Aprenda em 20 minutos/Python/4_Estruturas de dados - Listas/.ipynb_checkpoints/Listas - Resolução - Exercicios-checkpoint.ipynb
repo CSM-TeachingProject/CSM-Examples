{
 "cells": [
  {
   "cell_type": "code",
   "execution_count": 2,
   "metadata": {},
   "outputs": [
    {
     "name": "stdout",
     "output_type": "stream",
     "text": [
      "digite a primeira posição5\n",
      "digite a segunda posição2\n",
      "\n",
      " O resultado é:  10\n"
     ]
    }
   ],
   "source": [
    "# 1. Declare uma lista com 12 posições e em seguida declare também dois valores X e Y quaisquer correspondentes a \n",
    "# duas posições na lista. Ao final seu programa deverá escrever a soma dos valores encontrados nas respectivas posições X e Y.\n",
    "\n",
    "lista = [12,5,4,7,8,6,41,23,5,6,12]\n",
    "x = int(input(\"digite a primeira posição\"))\n",
    "y = int(input(\"digite a segunda posição\"))\n",
    "\n",
    "resultado = lista[x] + lista[y]\n",
    "\n",
    "print(\"\\n O resultado é: \", resultado)"
   ]
  },
  {
   "cell_type": "code",
   "execution_count": 6,
   "metadata": {},
   "outputs": [
    {
     "name": "stdout",
     "output_type": "stream",
     "text": [
      "[0, 2, 4, 6, 8, 10, 12, 14, 16, 18]\n"
     ]
    }
   ],
   "source": [
    "# 2. Declare uma lista de 10 posições e o preencha com os 10 primeiros números impares e o escreva.\n",
    "\n",
    "lista = []\n",
    "\n",
    "i = 0\n",
    "num = 0\n",
    "while len(lista) < 10:\n",
    "    if num % 2 == 0:\n",
    "        lista.append(num)\n",
    "        i += 1\n",
    "    num += 1 \n",
    "\n",
    "print(lista)"
   ]
  },
  {
   "cell_type": "code",
   "execution_count": 17,
   "metadata": {},
   "outputs": [
    {
     "name": "stdout",
     "output_type": "stream",
     "text": [
      "[1, 2, 3, 4, 5, 6, 7, 8, 9, 10, 11, 12, 13, 14, 15, 16, 0]\n"
     ]
    }
   ],
   "source": [
    "# 3. Declare uma lista de 16 posições e troque os 8 primeiros valores pelos 8 últimos e vice-e-versa. \n",
    "# Escreva ao final o vetor obtido.\n",
    "\n",
    "lista = [16,15,14,13,12,11,10,9,8,7,6,5,4,3,2,1,0]\n",
    "\n",
    "for i in range (0,8):\n",
    "    comeco = lista[i]\n",
    "    final = lista[15-i]\n",
    "    lista[i] = final\n",
    "    lista[15-i] = comeco\n",
    "\n",
    "print (lista)"
   ]
  },
  {
   "cell_type": "code",
   "execution_count": 23,
   "metadata": {},
   "outputs": [
    {
     "name": "stdout",
     "output_type": "stream",
     "text": [
      "digite um valor para buscar5\n",
      "Valor encontrado na posição:  11\n"
     ]
    }
   ],
   "source": [
    "# 4. Declare uma lista de 20 posições e em seguida um valor X qualquer. Seu programa devera fazer uma busca do valor de X no \n",
    "# vetor lido e informar a posição em que foi encontrado ou se não foi encontrado.\n",
    "\n",
    "lista = [16,15,14,13,12,11,10,9,8,7,6,5,4,3,2,1,0,20,19,18]\n",
    "\n",
    "encontrado = False\n",
    "valor = int(input(\"digite um valor para buscar\"))\n",
    "\n",
    "for i in range(len(lista)):\n",
    "    if lista[i] == valor:\n",
    "        print(\"Valor encontrado na posição: \", i)\n",
    "        encontrado = True\n",
    "        break\n",
    "\n",
    "if(not encontrado):\n",
    "    print(\"valor não encontrado\")\n",
    "    "
   ]
  },
  {
   "cell_type": "code",
   "execution_count": 24,
   "metadata": {},
   "outputs": [
    {
     "name": "stdout",
     "output_type": "stream",
     "text": [
      "Quantidade de valores pares:  11\n"
     ]
    }
   ],
   "source": [
    "# 5. Declare uma lista de 40 posições. Contar e escrever quantos valores pares ele possui.\n",
    "\n",
    "lista = [16,15,14,13,12,11,10,9,8,7,6,5,4,3,2,1,0,20,19,18]\n",
    "\n",
    "valoresPares = 0\n",
    "\n",
    "for i in range(len(lista)):\n",
    "    if lista[i] % 2 == 0:\n",
    "        valoresPares += 1\n",
    "\n",
    "print (\"Quantidade de valores pares: \", valoresPares)"
   ]
  },
  {
   "cell_type": "code",
   "execution_count": 25,
   "metadata": {},
   "outputs": [
    {
     "name": "stdout",
     "output_type": "stream",
     "text": [
      "[16, 0, 14, 13, 12, 0, 10, 9, 8, 7, 6, 5, 0, 3, 2, 1, 0, 20, 19, 18]\n"
     ]
    }
   ],
   "source": [
    "# 6. Declare uma lista de 40 posições e atribua valor 0 para todos os elementos que possuírem valores negativos.\n",
    "\n",
    "lista = [16,-15,14,13,12,-11,10,9,8,7,6,5,-4,3,2,1,0,20,19,18]\n",
    "\n",
    "for i in range(len(lista)):\n",
    "    if lista[i] < 0:\n",
    "        lista[i] = 0\n",
    "        \n",
    "print (lista)\n"
   ]
  },
  {
   "cell_type": "code",
   "execution_count": 27,
   "metadata": {},
   "outputs": [
    {
     "name": "stdout",
     "output_type": "stream",
     "text": [
      "[16, 14, 12, 10, 8, 6, 4, 2, 0, 20, 18]\n",
      "[15, 13, 11, 9, 7, 5, 3, 1, 19]\n"
     ]
    }
   ],
   "source": [
    "# 7. Declare dois vetores de 10 posições e crie uma outra lista contendo nas posições pares os valores do primeiro \n",
    "# e nas posições impares os valores do segundo.\n",
    "\n",
    "lista = [16,15,14,13,12,11,10,9,8,7,6,5,4,3,2,1,0,20,19,18]\n",
    "\n",
    "pares = []\n",
    "impares = []\n",
    "for i in range(len(lista)):\n",
    "    if lista[i] % 2 == 0:\n",
    "        pares.append(lista[i])\n",
    "    else:\n",
    "        impares.append(lista[i])\n",
    "        \n",
    "print (pares)\n",
    "print (impares)"
   ]
  },
  {
   "cell_type": "code",
   "execution_count": null,
   "metadata": {},
   "outputs": [],
   "source": [
    "# 8. Declare uma lista de 10 posições e acumule os valores do primeiro elemento no segundo, \n",
    "# deste no terceiro e assim por diante. Ao final, escreva o vetor obtido.\n",
    "\n"
   ]
  },
  {
   "cell_type": "code",
   "execution_count": 55,
   "metadata": {},
   "outputs": [
    {
     "name": "stdout",
     "output_type": "stream",
     "text": [
      "['e', 'u', 's', 'o', 'u', 'u', 'm', 'b', 'o', 'm', 'p', 'r', 'o', 'g', 'r', 'a', 'm', 'a', 'd', 'o', 'r']\n"
     ]
    }
   ],
   "source": [
    "# 9. Declare uma lista contendo letras de uma frase inclusive os espaços em branco. \n",
    "# Retirar os espaços em branco da lista e depois escreve-los.\n",
    "\n",
    "frase = \"eu sou um bom programador\"\n",
    "f = list(frase)\n",
    "lim = len(f)\n",
    "i = 0\n",
    "\n",
    "while i < lim:\n",
    "    if f[i] == ' ':\n",
    "        del f[i]\n",
    "        lim -= 1\n",
    "    i += 1\n",
    "print(f)"
   ]
  },
  {
   "cell_type": "code",
   "execution_count": 8,
   "metadata": {},
   "outputs": [
    {
     "name": "stdout",
     "output_type": "stream",
     "text": [
      "é um anagrama\n"
     ]
    }
   ],
   "source": [
    "# 10. Declare duas listas de 4 posições. Verifique e escreva se um é anagrama de outro.\n",
    "#  Ex: ARARA - ARARA - são anagramas\n",
    "\n",
    "lista = ['a','r','a','r','a']\n",
    "\n",
    "i = len(lista) -1\n",
    "\n",
    "anagrama = True\n",
    "\n",
    "for j in range(len(lista)):\n",
    "\n",
    "    if(lista[j] != lista[i]):\n",
    "        anagrama = False\n",
    "    i -= 1;\n",
    "        \n",
    "if anagrama:\n",
    "    print('é um anagrama')\n",
    "else:\n",
    "    print('não é um anagrama')"
   ]
  },
  {
   "cell_type": "code",
   "execution_count": null,
   "metadata": {},
   "outputs": [],
   "source": [
    "# 11. Declare 3 listas de 9 posições e crie outro com o 1º terço do primeiro, o segundo 3º \n",
    "# do segundo e o ultimo terço do 3º. Escrever o vetor resultante ao final."
   ]
  },
  {
   "cell_type": "code",
   "execution_count": null,
   "metadata": {},
   "outputs": [],
   "source": [
    "# 12. Declare uma lista de 10 posições e verifique se existem valores iguais e os escreva."
   ]
  },
  {
   "cell_type": "code",
   "execution_count": null,
   "metadata": {},
   "outputs": [],
   "source": [
    "# 13. Declare uma lista de 50 posições e o compacte, ou seja, mova os valores zero para o final do lista. \n",
    "# Dessa forma todos “zeros” devem ficar para as posições finais do lista."
   ]
  }
 ],
 "metadata": {
  "kernelspec": {
   "display_name": "Python 3",
   "language": "python",
   "name": "python3"
  },
  "language_info": {
   "codemirror_mode": {
    "name": "ipython",
    "version": 3
   },
   "file_extension": ".py",
   "mimetype": "text/x-python",
   "name": "python",
   "nbconvert_exporter": "python",
   "pygments_lexer": "ipython3",
   "version": "3.7.3"
  }
 },
 "nbformat": 4,
 "nbformat_minor": 2
}
